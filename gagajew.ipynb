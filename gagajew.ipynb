{
 "cells": [
  {
   "cell_type": "markdown",
   "metadata": {
    "colab_type": "text",
    "id": "view-in-github"
   },
   "source": [
    "<a href=\"https://colab.research.google.com/github/pantos1/dopp_ex3_city_livability/blob/master/main.ipynb\" target=\"_parent\"><img src=\"https://colab.research.google.com/assets/colab-badge.svg\" alt=\"Open In Colab\"/></a>"
   ]
  },
  {
   "cell_type": "code",
   "execution_count": 1,
   "metadata": {
    "colab": {},
    "colab_type": "code",
    "id": "PIuNHL-lMZvT",
    "pycharm": {
     "is_executing": false,
     "name": "#%%\n"
    }
   },
   "outputs": [],
   "source": [
    "import numpy as np\n",
    "import pandas as pd\n",
    "import seaborn as sns\n",
    "import glob\n",
    "import matplotlib.pyplot as plt"
   ]
  },
  {
   "cell_type": "markdown",
   "metadata": {
    "colab_type": "text",
    "id": "XdySpFWjhhwm"
   },
   "source": [
    "\n",
    "# Data-oriented programming paradigms\n",
    "## Exercise 3\n",
    "### Group 4"
   ]
  },
  {
   "cell_type": "markdown",
   "metadata": {},
   "source": [
    "#### Load Data"
   ]
  },
  {
   "cell_type": "markdown",
   "metadata": {},
   "source": [
    "##### Numbeo"
   ]
  },
  {
   "cell_type": "code",
   "execution_count": 2,
   "metadata": {
    "pycharm": {
     "is_executing": false
    },
    "scrolled": false
   },
   "outputs": [
    {
     "data": {
      "text/html": [
       "<div>\n",
       "<style scoped>\n",
       "    .dataframe tbody tr th:only-of-type {\n",
       "        vertical-align: middle;\n",
       "    }\n",
       "\n",
       "    .dataframe tbody tr th {\n",
       "        vertical-align: top;\n",
       "    }\n",
       "\n",
       "    .dataframe thead th {\n",
       "        text-align: right;\n",
       "    }\n",
       "</style>\n",
       "<table border=\"1\" class=\"dataframe\">\n",
       "  <thead>\n",
       "    <tr style=\"text-align: right;\">\n",
       "      <th></th>\n",
       "      <th></th>\n",
       "      <th></th>\n",
       "      <th>Rank</th>\n",
       "      <th>Quality of Life Index</th>\n",
       "      <th>Purchasing Power Index</th>\n",
       "      <th>Safety Index</th>\n",
       "      <th>Health Care Index</th>\n",
       "      <th>Cost of Living Index</th>\n",
       "      <th>Property Price to Income Ratio</th>\n",
       "      <th>Traffic Commute Time Index</th>\n",
       "      <th>Pollution Index</th>\n",
       "      <th>Climate Index</th>\n",
       "    </tr>\n",
       "    <tr>\n",
       "      <th>year</th>\n",
       "      <th>Country</th>\n",
       "      <th>City</th>\n",
       "      <th></th>\n",
       "      <th></th>\n",
       "      <th></th>\n",
       "      <th></th>\n",
       "      <th></th>\n",
       "      <th></th>\n",
       "      <th></th>\n",
       "      <th></th>\n",
       "      <th></th>\n",
       "      <th></th>\n",
       "    </tr>\n",
       "  </thead>\n",
       "  <tbody>\n",
       "    <tr>\n",
       "      <th rowspan=\"5\" valign=\"top\">2012</th>\n",
       "      <th>Germany</th>\n",
       "      <th>Berlin</th>\n",
       "      <td>1</td>\n",
       "      <td>215.25</td>\n",
       "      <td>140.62</td>\n",
       "      <td>77.34</td>\n",
       "      <td>64.81</td>\n",
       "      <td>89.06</td>\n",
       "      <td>5.74</td>\n",
       "      <td>23.00</td>\n",
       "      <td>40.00</td>\n",
       "      <td>-</td>\n",
       "    </tr>\n",
       "    <tr>\n",
       "      <th>Switzerland</th>\n",
       "      <th>Zurich</th>\n",
       "      <td>2</td>\n",
       "      <td>213.18</td>\n",
       "      <td>136.31</td>\n",
       "      <td>83.85</td>\n",
       "      <td>77.78</td>\n",
       "      <td>166.07</td>\n",
       "      <td>8.27</td>\n",
       "      <td>27.33</td>\n",
       "      <td>26.50</td>\n",
       "      <td>-</td>\n",
       "    </tr>\n",
       "    <tr>\n",
       "      <th>Canada</th>\n",
       "      <th>Edmonton</th>\n",
       "      <td>3</td>\n",
       "      <td>204.86</td>\n",
       "      <td>124.69</td>\n",
       "      <td>58.98</td>\n",
       "      <td>78.89</td>\n",
       "      <td>112.10</td>\n",
       "      <td>3.59</td>\n",
       "      <td>35.33</td>\n",
       "      <td>21.25</td>\n",
       "      <td>-</td>\n",
       "    </tr>\n",
       "    <tr>\n",
       "      <th>Australia</th>\n",
       "      <th>Perth</th>\n",
       "      <td>4</td>\n",
       "      <td>196.00</td>\n",
       "      <td>118.34</td>\n",
       "      <td>48.75</td>\n",
       "      <td>87.04</td>\n",
       "      <td>142.18</td>\n",
       "      <td>5.24</td>\n",
       "      <td>27.00</td>\n",
       "      <td>15.00</td>\n",
       "      <td>-</td>\n",
       "    </tr>\n",
       "    <tr>\n",
       "      <th>Canada</th>\n",
       "      <th>Calgary</th>\n",
       "      <td>5</td>\n",
       "      <td>190.78</td>\n",
       "      <td>124.25</td>\n",
       "      <td>71.88</td>\n",
       "      <td>70.42</td>\n",
       "      <td>111.71</td>\n",
       "      <td>4.58</td>\n",
       "      <td>62.00</td>\n",
       "      <td>25.08</td>\n",
       "      <td>-</td>\n",
       "    </tr>\n",
       "    <tr>\n",
       "      <th>...</th>\n",
       "      <th>...</th>\n",
       "      <th>...</th>\n",
       "      <td>...</td>\n",
       "      <td>...</td>\n",
       "      <td>...</td>\n",
       "      <td>...</td>\n",
       "      <td>...</td>\n",
       "      <td>...</td>\n",
       "      <td>...</td>\n",
       "      <td>...</td>\n",
       "      <td>...</td>\n",
       "      <td>...</td>\n",
       "    </tr>\n",
       "    <tr>\n",
       "      <th rowspan=\"5\" valign=\"top\">2019</th>\n",
       "      <th>Philippines</th>\n",
       "      <th>Manila</th>\n",
       "      <td>222</td>\n",
       "      <td>67.42</td>\n",
       "      <td>38.84</td>\n",
       "      <td>40.57</td>\n",
       "      <td>60.47</td>\n",
       "      <td>38.92</td>\n",
       "      <td>19.72</td>\n",
       "      <td>56.44</td>\n",
       "      <td>91.75</td>\n",
       "      <td>61.23</td>\n",
       "    </tr>\n",
       "    <tr>\n",
       "      <th>China</th>\n",
       "      <th>Beijing</th>\n",
       "      <td>223</td>\n",
       "      <td>65.11</td>\n",
       "      <td>70.73</td>\n",
       "      <td>47.21</td>\n",
       "      <td>63.29</td>\n",
       "      <td>43.71</td>\n",
       "      <td>45.30</td>\n",
       "      <td>45.00</td>\n",
       "      <td>88.71</td>\n",
       "      <td>57.64</td>\n",
       "    </tr>\n",
       "    <tr>\n",
       "      <th>Bangladesh</th>\n",
       "      <th>Dhaka</th>\n",
       "      <td>224</td>\n",
       "      <td>60.46</td>\n",
       "      <td>38.45</td>\n",
       "      <td>32.91</td>\n",
       "      <td>37.92</td>\n",
       "      <td>33.91</td>\n",
       "      <td>13.23</td>\n",
       "      <td>63.25</td>\n",
       "      <td>93.08</td>\n",
       "      <td>71.29</td>\n",
       "    </tr>\n",
       "    <tr>\n",
       "      <th>Nigeria</th>\n",
       "      <th>Lagos</th>\n",
       "      <td>225</td>\n",
       "      <td>51.31</td>\n",
       "      <td>14.44</td>\n",
       "      <td>35.78</td>\n",
       "      <td>53.02</td>\n",
       "      <td>34.84</td>\n",
       "      <td>17.23</td>\n",
       "      <td>73.88</td>\n",
       "      <td>84.24</td>\n",
       "      <td>60.75</td>\n",
       "    </tr>\n",
       "    <tr>\n",
       "      <th>Venezuela</th>\n",
       "      <th>Caracas</th>\n",
       "      <td>226</td>\n",
       "      <td>0.00</td>\n",
       "      <td>3.86</td>\n",
       "      <td>16.90</td>\n",
       "      <td>41.10</td>\n",
       "      <td>25.01</td>\n",
       "      <td>143.21</td>\n",
       "      <td>40.32</td>\n",
       "      <td>73.51</td>\n",
       "      <td>99.93</td>\n",
       "    </tr>\n",
       "  </tbody>\n",
       "</table>\n",
       "<p>1136 rows × 10 columns</p>\n",
       "</div>"
      ],
      "text/plain": [
       "                           Rank  Quality of Life Index  \\\n",
       "year Country     City                                    \n",
       "2012 Germany     Berlin       1                 215.25   \n",
       "     Switzerland Zurich       2                 213.18   \n",
       "     Canada      Edmonton     3                 204.86   \n",
       "     Australia   Perth        4                 196.00   \n",
       "     Canada      Calgary      5                 190.78   \n",
       "...                         ...                    ...   \n",
       "2019 Philippines Manila     222                  67.42   \n",
       "     China       Beijing    223                  65.11   \n",
       "     Bangladesh  Dhaka      224                  60.46   \n",
       "     Nigeria     Lagos      225                  51.31   \n",
       "     Venezuela   Caracas    226                   0.00   \n",
       "\n",
       "                           Purchasing Power Index  Safety Index  \\\n",
       "year Country     City                                             \n",
       "2012 Germany     Berlin                    140.62         77.34   \n",
       "     Switzerland Zurich                    136.31         83.85   \n",
       "     Canada      Edmonton                  124.69         58.98   \n",
       "     Australia   Perth                     118.34         48.75   \n",
       "     Canada      Calgary                   124.25         71.88   \n",
       "...                                           ...           ...   \n",
       "2019 Philippines Manila                     38.84         40.57   \n",
       "     China       Beijing                    70.73         47.21   \n",
       "     Bangladesh  Dhaka                      38.45         32.91   \n",
       "     Nigeria     Lagos                      14.44         35.78   \n",
       "     Venezuela   Caracas                     3.86         16.90   \n",
       "\n",
       "                           Health Care Index  Cost of Living Index  \\\n",
       "year Country     City                                                \n",
       "2012 Germany     Berlin                64.81                 89.06   \n",
       "     Switzerland Zurich                77.78                166.07   \n",
       "     Canada      Edmonton              78.89                112.10   \n",
       "     Australia   Perth                 87.04                142.18   \n",
       "     Canada      Calgary               70.42                111.71   \n",
       "...                                      ...                   ...   \n",
       "2019 Philippines Manila                60.47                 38.92   \n",
       "     China       Beijing               63.29                 43.71   \n",
       "     Bangladesh  Dhaka                 37.92                 33.91   \n",
       "     Nigeria     Lagos                 53.02                 34.84   \n",
       "     Venezuela   Caracas               41.10                 25.01   \n",
       "\n",
       "                           Property Price to Income Ratio  \\\n",
       "year Country     City                                       \n",
       "2012 Germany     Berlin                              5.74   \n",
       "     Switzerland Zurich                              8.27   \n",
       "     Canada      Edmonton                            3.59   \n",
       "     Australia   Perth                               5.24   \n",
       "     Canada      Calgary                             4.58   \n",
       "...                                                   ...   \n",
       "2019 Philippines Manila                             19.72   \n",
       "     China       Beijing                            45.30   \n",
       "     Bangladesh  Dhaka                              13.23   \n",
       "     Nigeria     Lagos                              17.23   \n",
       "     Venezuela   Caracas                           143.21   \n",
       "\n",
       "                           Traffic Commute Time Index  Pollution Index  \\\n",
       "year Country     City                                                    \n",
       "2012 Germany     Berlin                         23.00            40.00   \n",
       "     Switzerland Zurich                         27.33            26.50   \n",
       "     Canada      Edmonton                       35.33            21.25   \n",
       "     Australia   Perth                          27.00            15.00   \n",
       "     Canada      Calgary                        62.00            25.08   \n",
       "...                                               ...              ...   \n",
       "2019 Philippines Manila                         56.44            91.75   \n",
       "     China       Beijing                        45.00            88.71   \n",
       "     Bangladesh  Dhaka                          63.25            93.08   \n",
       "     Nigeria     Lagos                          73.88            84.24   \n",
       "     Venezuela   Caracas                        40.32            73.51   \n",
       "\n",
       "                          Climate Index  \n",
       "year Country     City                    \n",
       "2012 Germany     Berlin               -  \n",
       "     Switzerland Zurich               -  \n",
       "     Canada      Edmonton             -  \n",
       "     Australia   Perth                -  \n",
       "     Canada      Calgary              -  \n",
       "...                                 ...  \n",
       "2019 Philippines Manila           61.23  \n",
       "     China       Beijing          57.64  \n",
       "     Bangladesh  Dhaka            71.29  \n",
       "     Nigeria     Lagos            60.75  \n",
       "     Venezuela   Caracas          99.93  \n",
       "\n",
       "[1136 rows x 10 columns]"
      ]
     },
     "execution_count": 2,
     "metadata": {},
     "output_type": "execute_result"
    }
   ],
   "source": [
    "def load_numbeo_city_data():\n",
    "    files = glob.glob('data/numbeo/quality-of-life-city/*.csv')\n",
    "    datalist = []\n",
    "    for file in files:\n",
    "        year = int(file[33:37])\n",
    "        df = pd.read_csv(file, sep=';', header=0).assign(year=year)\n",
    "        city_parts = df['City'].str.split(',', n = 1, expand = True)\n",
    "        df['City'] = city_parts\n",
    "        df['Country'] = city_parts[len(city_parts.columns) - 1]\n",
    "        datalist.append(df)\n",
    "        \n",
    "    data = pd.concat(datalist)\n",
    "    \n",
    "    data.set_index(['year', 'Country', 'City'], inplace = True)\n",
    "    data.index.set_names(['year', 'Country', 'City'], inplace = True)\n",
    "    return data\n",
    "\n",
    "numbeo_city_data = load_numbeo_city_data()\n",
    "numbeo_city_data"
   ]
  },
  {
   "cell_type": "markdown",
   "metadata": {
    "pycharm": {
     "name": "#%% md\n"
    }
   },
   "source": [
    "# How do they correlate with the cost of living?"
   ]
  },
  {
   "cell_type": "markdown",
   "metadata": {
    "pycharm": {
     "name": "#%% md\n"
    }
   },
   "source": [
    "## Direct correlation Quality of Life and Cost of living:\n",
    "The ranking for Quality of Life is determined by the Quality of Life Index. Therefore, the Index will be used, rather than the rank directly."
   ]
  },
  {
   "cell_type": "code",
   "execution_count": 13,
   "metadata": {
    "pycharm": {
     "is_executing": false
    },
    "scrolled": false
   },
   "outputs": [
    {
     "name": "stdout",
     "output_type": "stream",
     "text": [
      "Correlation coefficient for Quality of Life Index and Cost of Living Index 0.3622035181784396\n",
      "Correlation coefficient for Quality of Life Index and Pollution Index -0.8055897566479392\n",
      "Correlation coefficient for Quality of Life Index and Purchasing Power Index 0.7637395471761619\n"
     ]
    },
    {
     "data": {
      "text/plain": [
       "<matplotlib.axes._subplots.AxesSubplot at 0x200cb804bc8>"
      ]
     },
     "execution_count": 13,
     "metadata": {},
     "output_type": "execute_result"
    },
    {
     "data": {
      "image/png": "[encoded data removed]",
      "text/plain": [
       "<Figure size 432x288 with 2 Axes>"
      ]
     },
     "metadata": {
      "needs_background": "light"
     },
     "output_type": "display_data"
    }
   ],
   "source": [
    "numbeo_city_data = load_numbeo_city_data()\n",
    "corr = numbeo_city_data.corr()\n",
    "corr_coefficient_cost_of_living = corr['Quality of Life Index']['Cost of Living Index']\n",
    "print('Correlation coefficient for Quality of Life Index and Cost of Living Index overall' + str(corr_coefficient_cost_of_living))\n",
    "corr_coefficient_pollution = corr['Quality of Life Index']['Pollution Index']\n",
    "print('Correlation coefficient for Quality of Life Index and Pollution Index ' + str(corr_coefficient_pollution))\n",
    "corr_coefficient_purchasing = corr['Quality of Life Index']['Purchasing Power Index']\n",
    "print('Correlation coefficient for Quality of Life Index and Purchasing Power Index ' + str(corr_coefficient_purchasing))\n",
    "\n",
    "sns.heatmap(corr,\n",
    "        xticklabels=corr.columns,\n",
    "        yticklabels=corr.columns)"
   ]
  },
  {
   "cell_type": "markdown",
   "metadata": {},
   "source": [
    "In the heatmap above, very dark violet areas suggest a high negative correlation and very bright red/beige areas suggest a high correlation.\n",
    "The correlation coefficient for Quality of Life Index and Cost of Living Index in 2019 is 0.6813. That indicates that there is a correlation between those indices, even though it might be statistically insignificant, as it is below 0.7. The correlation coefficient over all the years from 2012 to 2019 is 0.3622, which is very low. However, the correlation between Quality of Life Index and Pollution Index is -0.81, which is statistically significant. That raises the suspicion that the pollution affects the Quality of Life Index heavily. The suspicion is confirmed by looking at the formula, which is used to calculate the Quality of Life Index on Numbeo. Furthermore, it is visible in the heatmap that there is a high correlation between Quality of Life Index and Purchasing Power Index (0.764), which can also be confirmed by looking at the impact of the Purchasing Power Index on the Quality of Life Index in the used formula."
   ]
  },
  {
   "cell_type": "code",
   "execution_count": 4,
   "metadata": {
    "pycharm": {
     "is_executing": false
    }
   },
   "outputs": [
    {
     "data": {
      "text/plain": [
       "<seaborn.axisgrid.PairGrid at 0x200b9de9d48>"
      ]
     },
     "execution_count": 4,
     "metadata": {},
     "output_type": "execute_result"
    },
    {
     "data": {
      "image/png": "[encoded data removed]",
      "text/plain": [
       "<Figure size 1296x432 with 3 Axes>"
      ]
     },
     "metadata": {
      "needs_background": "light"
     },
     "output_type": "display_data"
    }
   ],
   "source": [
    "numbeo_city_data = load_numbeo_city_data()\n",
    "numbeo_city_data = numbeo_city_data.loc[2019].reset_index()\n",
    "\n",
    "sns.pairplot(numbeo_city_data,  x_vars=[\"Cost of Living Index\", \"Pollution Index\", \"Purchasing Power Index\"],\n",
    "                 y_vars=[\"Quality of Life Index\"], height=6)\n"
   ]
  },
  {
   "cell_type": "markdown",
   "metadata": {},
   "source": [
    "These three indices are the ones, which have the highest correlation with the Quality of Life Index. It can be seen that cost of living has the lowest correlation coefficient of these three, because the values in the left plot are spread more than in the other two plots. Quality of Life Index and Pollution Index are negatively correlated, whereas Quality of Life Index and Purchasing Power Index are positively correlated."
   ]
  },
  {
   "cell_type": "markdown",
   "metadata": {},
   "source": [
    "### Conclusion"
   ]
  },
  {
   "cell_type": "markdown",
   "metadata": {},
   "source": [
    "The Quality of Life Index is heavily impacted by the Pollution Index and Purchasing Power Index. Cost of living does not impact Qualify of Life Index as much as the other two, however the correlation coefficient for 2019 is not to low either with 0.68, which indicates that there is a correlation."
   ]
  },
  {
   "cell_type": "code",
   "execution_count": null,
   "metadata": {},
   "outputs": [],
   "source": []
  }
 ],
 "metadata": {
  "colab": {
   "include_colab_link": true,
   "name": "Untitled0.ipynb",
   "provenance": []
  },
  "kernelspec": {
   "display_name": "Python 3",
   "language": "python",
   "name": "python3"
  },
  "language_info": {
   "codemirror_mode": {
    "name": "ipython",
    "version": 3
   },
   "file_extension": ".py",
   "mimetype": "text/x-python",
   "name": "python",
   "nbconvert_exporter": "python",
   "pygments_lexer": "ipython3",
   "version": "3.7.6"
  },
  "pycharm": {
   "stem_cell": {
    "cell_type": "raw",
    "metadata": {
     "collapsed": false
    },
    "source": []
   }
  }
 },
 "nbformat": 4,
 "nbformat_minor": 1
}
