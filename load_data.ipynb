{
 "cells": [
  {
   "cell_type": "markdown",
   "metadata": {
    "colab_type": "text",
    "id": "view-in-github"
   },
   "source": [
    "<a href=\"https://colab.research.google.com/github/pantos1/dopp_ex3_city_livability/blob/master/main.ipynb\" target=\"_parent\"><img src=\"https://colab.research.google.com/assets/colab-badge.svg\" alt=\"Open In Colab\"/></a>"
   ]
  },
  {
   "cell_type": "code",
   "execution_count": 1,
   "metadata": {
    "pycharm": {
     "is_executing": false,
     "name": "#%%\n"
    }
   },
   "outputs": [],
   "source": [
    "import numpy as np\n",
    "import pandas as pd\n",
    "import glob\n",
    "import matplotlib.pyplot as plt"
   ]
  },
  {
   "cell_type": "markdown",
   "metadata": {},
   "source": [
    "\n",
    "# Data-oriented programming paradigms\n",
    "## Exercise 3\n",
    "### Group 4\n",
    "\n",
    "Piotr Antosiuk\n",
    "\n",
    "Husein Gagajew 11775804\n",
    "\n",
    "Johannes Fesl 11708466\n",
    "\n",
    "\n",
    "## Loading Data\n",
    "### Mercer Data:"
   ]
  },
  {
   "cell_type": "code",
   "execution_count": null,
   "outputs": [],
   "source": [
    "def load_mercer_data():\n",
    "    files = glob.glob('data/mercer_*.csv')\n",
    "    datalist = []\n",
    "    for file in files:\n",
    "        year = int(file[12:16])\n",
    "        df = pd.read_csv(file, sep=';', header=0, encoding='ISO-8859-1').assign(year=year)\n",
    "        datalist.append(df)\n",
    "        \n",
    "    data = pd.concat(datalist)\n",
    "    data.sort_values(['year'], ascending=True, inplace=True)\n",
    "    data.set_index(['year', 'City'], inplace=True)\n",
    "    data.index.set_names(['year', 'City'], inplace=True)\n",
    "    return data\n",
    "\n",
    "mercer_data = load_mercer_data()\n",
    "mercer_data"
   ],
   "metadata": {
    "collapsed": false,
    "pycharm": {
     "name": "#%%\n"
    }
   }
  },
  {
   "cell_type": "markdown",
   "metadata": {
    "colab_type": "text",
    "id": "XdySpFWjhhwm"
   },
   "source": [
    "## Numbeo data"
   ]
  },
  {
   "cell_type": "code",
   "execution_count": 4,
   "metadata": {
    "pycharm": {
     "is_executing": false
    }
   },
   "outputs": [
    {
     "data": {
      "text/plain": "                           Rank  Quality of Life Index  \\\nyear Country     City                                    \n2012 Germany     Berlin       1                 215.25   \n     Switzerland Zurich       2                 213.18   \n     Canada      Edmonton     3                 204.86   \n     Australia   Perth        4                 196.00   \n     Canada      Calgary      5                 190.78   \n...                         ...                    ...   \n2019 Philippines Manila     222                  67.42   \n     China       Beijing    223                  65.11   \n     Bangladesh  Dhaka      224                  60.46   \n     Nigeria     Lagos      225                  51.31   \n     Venezuela   Caracas    226                   0.00   \n\n                           Purchasing Power Index  Safety Index  \\\nyear Country     City                                             \n2012 Germany     Berlin                    140.62         77.34   \n     Switzerland Zurich                    136.31         83.85   \n     Canada      Edmonton                  124.69         58.98   \n     Australia   Perth                     118.34         48.75   \n     Canada      Calgary                   124.25         71.88   \n...                                           ...           ...   \n2019 Philippines Manila                     38.84         40.57   \n     China       Beijing                    70.73         47.21   \n     Bangladesh  Dhaka                      38.45         32.91   \n     Nigeria     Lagos                      14.44         35.78   \n     Venezuela   Caracas                     3.86         16.90   \n\n                           Health Care Index  Cost of Living Index  \\\nyear Country     City                                                \n2012 Germany     Berlin                64.81                 89.06   \n     Switzerland Zurich                77.78                166.07   \n     Canada      Edmonton              78.89                112.10   \n     Australia   Perth                 87.04                142.18   \n     Canada      Calgary               70.42                111.71   \n...                                      ...                   ...   \n2019 Philippines Manila                60.47                 38.92   \n     China       Beijing               63.29                 43.71   \n     Bangladesh  Dhaka                 37.92                 33.91   \n     Nigeria     Lagos                 53.02                 34.84   \n     Venezuela   Caracas               41.10                 25.01   \n\n                           Property Price to Income Ratio  \\\nyear Country     City                                       \n2012 Germany     Berlin                              5.74   \n     Switzerland Zurich                              8.27   \n     Canada      Edmonton                            3.59   \n     Australia   Perth                               5.24   \n     Canada      Calgary                             4.58   \n...                                                   ...   \n2019 Philippines Manila                             19.72   \n     China       Beijing                            45.30   \n     Bangladesh  Dhaka                              13.23   \n     Nigeria     Lagos                              17.23   \n     Venezuela   Caracas                           143.21   \n\n                           Traffic Commute Time Index  Pollution Index  \\\nyear Country     City                                                    \n2012 Germany     Berlin                         23.00            40.00   \n     Switzerland Zurich                         27.33            26.50   \n     Canada      Edmonton                       35.33            21.25   \n     Australia   Perth                          27.00            15.00   \n     Canada      Calgary                        62.00            25.08   \n...                                               ...              ...   \n2019 Philippines Manila                         56.44            91.75   \n     China       Beijing                        45.00            88.71   \n     Bangladesh  Dhaka                          63.25            93.08   \n     Nigeria     Lagos                          73.88            84.24   \n     Venezuela   Caracas                        40.32            73.51   \n\n                          Climate Index  \nyear Country     City                    \n2012 Germany     Berlin               -  \n     Switzerland Zurich               -  \n     Canada      Edmonton             -  \n     Australia   Perth                -  \n     Canada      Calgary              -  \n...                                 ...  \n2019 Philippines Manila           61.23  \n     China       Beijing          57.64  \n     Bangladesh  Dhaka            71.29  \n     Nigeria     Lagos            60.75  \n     Venezuela   Caracas          99.93  \n\n[1136 rows x 10 columns]",
      "text/html": "<div>\n<style scoped>\n    .dataframe tbody tr th:only-of-type {\n        vertical-align: middle;\n    }\n\n    .dataframe tbody tr th {\n        vertical-align: top;\n    }\n\n    .dataframe thead th {\n        text-align: right;\n    }\n</style>\n<table border=\"1\" class=\"dataframe\">\n  <thead>\n    <tr style=\"text-align: right;\">\n      <th></th>\n      <th></th>\n      <th></th>\n      <th>Rank</th>\n      <th>Quality of Life Index</th>\n      <th>Purchasing Power Index</th>\n      <th>Safety Index</th>\n      <th>Health Care Index</th>\n      <th>Cost of Living Index</th>\n      <th>Property Price to Income Ratio</th>\n      <th>Traffic Commute Time Index</th>\n      <th>Pollution Index</th>\n      <th>Climate Index</th>\n    </tr>\n    <tr>\n      <th>year</th>\n      <th>Country</th>\n      <th>City</th>\n      <th></th>\n      <th></th>\n      <th></th>\n      <th></th>\n      <th></th>\n      <th></th>\n      <th></th>\n      <th></th>\n      <th></th>\n      <th></th>\n    </tr>\n  </thead>\n  <tbody>\n    <tr>\n      <th rowspan=\"5\" valign=\"top\">2012</th>\n      <th>Germany</th>\n      <th>Berlin</th>\n      <td>1</td>\n      <td>215.25</td>\n      <td>140.62</td>\n      <td>77.34</td>\n      <td>64.81</td>\n      <td>89.06</td>\n      <td>5.74</td>\n      <td>23.00</td>\n      <td>40.00</td>\n      <td>-</td>\n    </tr>\n    <tr>\n      <th>Switzerland</th>\n      <th>Zurich</th>\n      <td>2</td>\n      <td>213.18</td>\n      <td>136.31</td>\n      <td>83.85</td>\n      <td>77.78</td>\n      <td>166.07</td>\n      <td>8.27</td>\n      <td>27.33</td>\n      <td>26.50</td>\n      <td>-</td>\n    </tr>\n    <tr>\n      <th>Canada</th>\n      <th>Edmonton</th>\n      <td>3</td>\n      <td>204.86</td>\n      <td>124.69</td>\n      <td>58.98</td>\n      <td>78.89</td>\n      <td>112.10</td>\n      <td>3.59</td>\n      <td>35.33</td>\n      <td>21.25</td>\n      <td>-</td>\n    </tr>\n    <tr>\n      <th>Australia</th>\n      <th>Perth</th>\n      <td>4</td>\n      <td>196.00</td>\n      <td>118.34</td>\n      <td>48.75</td>\n      <td>87.04</td>\n      <td>142.18</td>\n      <td>5.24</td>\n      <td>27.00</td>\n      <td>15.00</td>\n      <td>-</td>\n    </tr>\n    <tr>\n      <th>Canada</th>\n      <th>Calgary</th>\n      <td>5</td>\n      <td>190.78</td>\n      <td>124.25</td>\n      <td>71.88</td>\n      <td>70.42</td>\n      <td>111.71</td>\n      <td>4.58</td>\n      <td>62.00</td>\n      <td>25.08</td>\n      <td>-</td>\n    </tr>\n    <tr>\n      <th>...</th>\n      <th>...</th>\n      <th>...</th>\n      <td>...</td>\n      <td>...</td>\n      <td>...</td>\n      <td>...</td>\n      <td>...</td>\n      <td>...</td>\n      <td>...</td>\n      <td>...</td>\n      <td>...</td>\n      <td>...</td>\n    </tr>\n    <tr>\n      <th rowspan=\"5\" valign=\"top\">2019</th>\n      <th>Philippines</th>\n      <th>Manila</th>\n      <td>222</td>\n      <td>67.42</td>\n      <td>38.84</td>\n      <td>40.57</td>\n      <td>60.47</td>\n      <td>38.92</td>\n      <td>19.72</td>\n      <td>56.44</td>\n      <td>91.75</td>\n      <td>61.23</td>\n    </tr>\n    <tr>\n      <th>China</th>\n      <th>Beijing</th>\n      <td>223</td>\n      <td>65.11</td>\n      <td>70.73</td>\n      <td>47.21</td>\n      <td>63.29</td>\n      <td>43.71</td>\n      <td>45.30</td>\n      <td>45.00</td>\n      <td>88.71</td>\n      <td>57.64</td>\n    </tr>\n    <tr>\n      <th>Bangladesh</th>\n      <th>Dhaka</th>\n      <td>224</td>\n      <td>60.46</td>\n      <td>38.45</td>\n      <td>32.91</td>\n      <td>37.92</td>\n      <td>33.91</td>\n      <td>13.23</td>\n      <td>63.25</td>\n      <td>93.08</td>\n      <td>71.29</td>\n    </tr>\n    <tr>\n      <th>Nigeria</th>\n      <th>Lagos</th>\n      <td>225</td>\n      <td>51.31</td>\n      <td>14.44</td>\n      <td>35.78</td>\n      <td>53.02</td>\n      <td>34.84</td>\n      <td>17.23</td>\n      <td>73.88</td>\n      <td>84.24</td>\n      <td>60.75</td>\n    </tr>\n    <tr>\n      <th>Venezuela</th>\n      <th>Caracas</th>\n      <td>226</td>\n      <td>0.00</td>\n      <td>3.86</td>\n      <td>16.90</td>\n      <td>41.10</td>\n      <td>25.01</td>\n      <td>143.21</td>\n      <td>40.32</td>\n      <td>73.51</td>\n      <td>99.93</td>\n    </tr>\n  </tbody>\n</table>\n<p>1136 rows × 10 columns</p>\n</div>"
     },
     "metadata": {},
     "output_type": "execute_result",
     "execution_count": 4
    }
   ],
   "source": [
    "def load_numbeo_city_data():\n",
    "    files = glob.glob('data/numbeo/quality-of-life-city/*.csv')\n",
    "    datalist = []\n",
    "    for file in files:\n",
    "        year = file[33:37]\n",
    "        df = pd.read_csv(file, sep=';', header=0).assign(year=year)\n",
    "        city_parts = df['City'].str.split(',', n = 1, expand = True)\n",
    "        df['City'] = city_parts\n",
    "        df['Country'] = city_parts[len(city_parts.columns) - 1]\n",
    "        datalist.append(df)\n",
    "        \n",
    "    data = pd.concat(datalist)\n",
    "    \n",
    "    data.set_index(['year', 'Country', 'City'], inplace = True)\n",
    "    data.index.set_names(['year', 'Country', 'City'], inplace = True)\n",
    "    return data\n",
    "\n",
    "numbeo_city_data = load_numbeo_city_data()\n",
    "numbeo_city_data"
   ]
  },
  {
   "cell_type": "code",
   "execution_count": 5,
   "metadata": {
    "pycharm": {
     "is_executing": false
    }
   },
   "outputs": [
    {
     "data": {
      "text/plain": "                           Rank  Quality of Life Index  \\\nyear Country                                             \n2012 Switzerland              1                 194.11   \n     Germany                  2                 184.42   \n     Norway                   3                 183.43   \n     United Arab Emirates     4                 177.07   \n     New Zealand              5                 174.28   \n...                         ...                    ...   \n2019 Philippines             67                  90.73   \n     Vietnam                 68                  88.82   \n     Kazakhstan              69                  87.17   \n     Iran                    70                  87.02   \n     Egypt                   71                  83.98   \n\n                           Purchasing Power Index  Safety Index  \\\nyear Country                                                      \n2012 Switzerland                           127.42         74.22   \n     Germany                               114.22         78.80   \n     Norway                                 94.21         80.93   \n     United Arab Emirates                  134.89         64.05   \n     New Zealand                            88.59         53.19   \n...                                           ...           ...   \n2019 Philippines                            29.46         59.17   \n     Vietnam                                33.33         51.22   \n     Kazakhstan                             38.83         33.49   \n     Iran                                   37.74         50.67   \n     Egypt                                  23.67         49.29   \n\n                           Health Care Index  Cost of Living Index  \\\nyear Country                                                         \n2012 Switzerland                       79.51                148.69   \n     Germany                           71.96                 92.83   \n     Norway                            79.04                166.65   \n     United Arab Emirates              63.89                 80.79   \n     New Zealand                       86.81                107.37   \n...                                      ...                   ...   \n2019 Philippines                       65.87                 35.09   \n     Vietnam                           54.54                 37.70   \n     Kazakhstan                        51.27                 29.83   \n     Iran                              51.18                 35.80   \n     Egypt                             44.22                 26.46   \n\n                           Property Price to Income Ratio  \\\nyear Country                                                \n2012 Switzerland                                     6.53   \n     Germany                                         4.80   \n     Norway                                          7.10   \n     United Arab Emirates                            4.49   \n     New Zealand                                     5.71   \n...                                                   ...   \n2019 Philippines                                    21.83   \n     Vietnam                                        19.66   \n     Kazakhstan                                     11.51   \n     Iran                                           16.87   \n     Egypt                                          13.60   \n\n                           Traffic Commute Time Index  Pollution Index  \\\nyear Country                                                             \n2012 Switzerland                                30.88            35.49   \n     Germany                                    33.12            45.14   \n     Norway                                     18.50            19.22   \n     United Arab Emirates                       17.00            69.17   \n     New Zealand                                25.25            17.08   \n...                                               ...              ...   \n2019 Philippines                                44.15            74.47   \n     Vietnam                                    28.33            87.13   \n     Kazakhstan                                 29.75            74.25   \n     Iran                                       48.38            79.35   \n     Egypt                                      49.17            86.48   \n\n                          Climate Index  \nyear Country                             \n2012 Switzerland                      -  \n     Germany                          -  \n     Norway                           -  \n     United Arab Emirates             -  \n     New Zealand                      -  \n...                                 ...  \n2019 Philippines                  60.23  \n     Vietnam                      71.24  \n     Kazakhstan                   39.78  \n     Iran                         70.99  \n     Egypt                        91.98  \n\n[526 rows x 10 columns]",
      "text/html": "<div>\n<style scoped>\n    .dataframe tbody tr th:only-of-type {\n        vertical-align: middle;\n    }\n\n    .dataframe tbody tr th {\n        vertical-align: top;\n    }\n\n    .dataframe thead th {\n        text-align: right;\n    }\n</style>\n<table border=\"1\" class=\"dataframe\">\n  <thead>\n    <tr style=\"text-align: right;\">\n      <th></th>\n      <th></th>\n      <th>Rank</th>\n      <th>Quality of Life Index</th>\n      <th>Purchasing Power Index</th>\n      <th>Safety Index</th>\n      <th>Health Care Index</th>\n      <th>Cost of Living Index</th>\n      <th>Property Price to Income Ratio</th>\n      <th>Traffic Commute Time Index</th>\n      <th>Pollution Index</th>\n      <th>Climate Index</th>\n    </tr>\n    <tr>\n      <th>year</th>\n      <th>Country</th>\n      <th></th>\n      <th></th>\n      <th></th>\n      <th></th>\n      <th></th>\n      <th></th>\n      <th></th>\n      <th></th>\n      <th></th>\n      <th></th>\n    </tr>\n  </thead>\n  <tbody>\n    <tr>\n      <th rowspan=\"5\" valign=\"top\">2012</th>\n      <th>Switzerland</th>\n      <td>1</td>\n      <td>194.11</td>\n      <td>127.42</td>\n      <td>74.22</td>\n      <td>79.51</td>\n      <td>148.69</td>\n      <td>6.53</td>\n      <td>30.88</td>\n      <td>35.49</td>\n      <td>-</td>\n    </tr>\n    <tr>\n      <th>Germany</th>\n      <td>2</td>\n      <td>184.42</td>\n      <td>114.22</td>\n      <td>78.80</td>\n      <td>71.96</td>\n      <td>92.83</td>\n      <td>4.80</td>\n      <td>33.12</td>\n      <td>45.14</td>\n      <td>-</td>\n    </tr>\n    <tr>\n      <th>Norway</th>\n      <td>3</td>\n      <td>183.43</td>\n      <td>94.21</td>\n      <td>80.93</td>\n      <td>79.04</td>\n      <td>166.65</td>\n      <td>7.10</td>\n      <td>18.50</td>\n      <td>19.22</td>\n      <td>-</td>\n    </tr>\n    <tr>\n      <th>United Arab Emirates</th>\n      <td>4</td>\n      <td>177.07</td>\n      <td>134.89</td>\n      <td>64.05</td>\n      <td>63.89</td>\n      <td>80.79</td>\n      <td>4.49</td>\n      <td>17.00</td>\n      <td>69.17</td>\n      <td>-</td>\n    </tr>\n    <tr>\n      <th>New Zealand</th>\n      <td>5</td>\n      <td>174.28</td>\n      <td>88.59</td>\n      <td>53.19</td>\n      <td>86.81</td>\n      <td>107.37</td>\n      <td>5.71</td>\n      <td>25.25</td>\n      <td>17.08</td>\n      <td>-</td>\n    </tr>\n    <tr>\n      <th>...</th>\n      <th>...</th>\n      <td>...</td>\n      <td>...</td>\n      <td>...</td>\n      <td>...</td>\n      <td>...</td>\n      <td>...</td>\n      <td>...</td>\n      <td>...</td>\n      <td>...</td>\n      <td>...</td>\n    </tr>\n    <tr>\n      <th rowspan=\"5\" valign=\"top\">2019</th>\n      <th>Philippines</th>\n      <td>67</td>\n      <td>90.73</td>\n      <td>29.46</td>\n      <td>59.17</td>\n      <td>65.87</td>\n      <td>35.09</td>\n      <td>21.83</td>\n      <td>44.15</td>\n      <td>74.47</td>\n      <td>60.23</td>\n    </tr>\n    <tr>\n      <th>Vietnam</th>\n      <td>68</td>\n      <td>88.82</td>\n      <td>33.33</td>\n      <td>51.22</td>\n      <td>54.54</td>\n      <td>37.70</td>\n      <td>19.66</td>\n      <td>28.33</td>\n      <td>87.13</td>\n      <td>71.24</td>\n    </tr>\n    <tr>\n      <th>Kazakhstan</th>\n      <td>69</td>\n      <td>87.17</td>\n      <td>38.83</td>\n      <td>33.49</td>\n      <td>51.27</td>\n      <td>29.83</td>\n      <td>11.51</td>\n      <td>29.75</td>\n      <td>74.25</td>\n      <td>39.78</td>\n    </tr>\n    <tr>\n      <th>Iran</th>\n      <td>70</td>\n      <td>87.02</td>\n      <td>37.74</td>\n      <td>50.67</td>\n      <td>51.18</td>\n      <td>35.80</td>\n      <td>16.87</td>\n      <td>48.38</td>\n      <td>79.35</td>\n      <td>70.99</td>\n    </tr>\n    <tr>\n      <th>Egypt</th>\n      <td>71</td>\n      <td>83.98</td>\n      <td>23.67</td>\n      <td>49.29</td>\n      <td>44.22</td>\n      <td>26.46</td>\n      <td>13.60</td>\n      <td>49.17</td>\n      <td>86.48</td>\n      <td>91.98</td>\n    </tr>\n  </tbody>\n</table>\n<p>526 rows × 10 columns</p>\n</div>"
     },
     "metadata": {},
     "output_type": "execute_result",
     "execution_count": 5
    }
   ],
   "source": [
    "def load_numbeo_country_data():\n",
    "    files = glob.glob('data/numbeo/quality-of-life-country/*.csv')\n",
    "    datalist = []\n",
    "    for file in files:\n",
    "        year = file[36:40]\n",
    "        df = pd.read_csv(file, sep=';', header=0).assign(year=year)\n",
    "        datalist.append(df)\n",
    "        \n",
    "    data = pd.concat(datalist)\n",
    "    \n",
    "    data.set_index(['year', 'Country'], inplace = True)\n",
    "    data.index.set_names(['year','Country'], inplace = True)\n",
    "    return data\n",
    "\n",
    "numbeo_country_data = load_numbeo_country_data()\n",
    "numbeo_country_data"
   ]
  },
  {
   "cell_type": "code",
   "execution_count": 5,
   "metadata": {
    "pycharm": {
     "is_executing": false,
     "name": "#%%\n"
    }
   },
   "outputs": [],
   "source": [
    "def load_population_data():\n",
    "  file_url = 'https://raw.githubusercontent.com/pantos1/dopp_ex3_city_livability/master/data/imf/population_area_denisty.csv'\n",
    "  df = pd.read_csv(file_url, sep=';', encoding='ISO-8859-1')\n",
    "  df.drop(df.loc[df['Year'] != 2019].index, inplace=True)\n",
    "  df = df.pivot(index='Country', columns='Series', values='Value')\n",
    "  return df\n",
    "\n",
    "population_data = load_population_data()\n",
    "population_data"
   ]
  }
 ],
 "metadata": {
  "colab": {
   "include_colab_link": true,
   "name": "Untitled0.ipynb",
   "provenance": []
  },
  "kernelspec": {
   "display_name": "Python 3",
   "language": "python",
   "name": "python3"
  },
  "language_info": {
   "codemirror_mode": {
    "name": "ipython",
    "version": 3
   },
   "file_extension": ".py",
   "mimetype": "text/x-python",
   "name": "python",
   "nbconvert_exporter": "python",
   "pygments_lexer": "ipython3",
   "version": "3.7.6"
  },
  "pycharm": {
   "stem_cell": {
    "cell_type": "raw",
    "source": [],
    "metadata": {
     "collapsed": false
    }
   }
  }
 },
 "nbformat": 4,
 "nbformat_minor": 1
}