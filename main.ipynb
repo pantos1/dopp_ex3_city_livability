{
 "nbformat": 4,
 "nbformat_minor": 0,
 "metadata": {
  "colab": {
   "name": "Untitled0.ipynb",
   "provenance": [],
   "include_colab_link": true
  },
  "kernelspec": {
   "name": "python3",
   "language": "python",
   "display_name": "Python 3"
  },
  "pycharm": {
   "stem_cell": {
    "cell_type": "raw",
    "source": [],
    "metadata": {
     "collapsed": false
    }
   }
  }
 },
 "cells": [
  {
   "cell_type": "markdown",
   "metadata": {
    "id": "view-in-github",
    "colab_type": "text"
   },
   "source": [
    "<a href=\"https://colab.research.google.com/github/pantos1/dopp_ex3_city_livability/blob/master/main.ipynb\" target=\"_parent\"><img src=\"https://colab.research.google.com/assets/colab-badge.svg\" alt=\"Open In Colab\"/></a>"
   ]
  },
  {
   "cell_type": "code",
   "execution_count": 7,
   "outputs": [],
   "source": [
    "import numpy as np\n",
    "import pandas as pd\n",
    "import glob\n",
    "import matplotlib.pyplot as plt"
   ],
   "metadata": {
    "collapsed": false,
    "pycharm": {
     "name": "#%%\n",
     "is_executing": false
    }
   }
  },
  {
   "cell_type": "markdown",
   "metadata": {
    "id": "XdySpFWjhhwm",
    "colab_type": "text"
   },
   "source": [
    "\n",
    "# Data-oriented programming paradigms\n",
    "## Exercise 3\n",
    "### Group 4\n",
    "\n",
    "Piotr Antosiuk\n",
    "\n",
    "Husein Gagajew 11775804\n",
    "\n",
    "Johannes Fesl 11708466\n",
    "\n",
    "\n",
    "## Loading Data\n",
    "### Mercer Data:"
   ]
  },
  {
   "cell_type": "code",
   "metadata": {
    "id": "w7IdyWAzkuUI",
    "colab_type": "code",
    "colab": {},
    "pycharm": {
     "is_executing": false
    }
   },
   "source": [
    "def load_mercer_data():\n",
    "    files = glob.glob('data/mercer_*.csv')\n",
    "    datalist = []\n",
    "    for file in files:\n",
    "        year = file[12:16]\n",
    "        df = pd.read_csv(file, sep=';', header=0, encoding='ISO-8859-1').assign(year=year)\n",
    "        datalist.append(df)\n",
    "        \n",
    "    data = pd.concat(datalist)\n",
    "    return data\n",
    "\n",
    "mercer_data = load_mercer_data()\n",
    "mercer_data"
   ],
   "execution_count": 10,
   "outputs": [
    {
     "data": {
      "text/plain": "         Country          City  Rank  year\n0        Austria        Vienna     1  2010\n1    Switzerland        Zürich     2  2010\n2    Switzerland        Geneva     3  2010\n3         Canada     Vancouver     3  2010\n4    New Zealand      Auckland     4  2010\n..           ...           ...   ...   ...\n95  South Africa  Johannesburg    96  2019\n96        Panama   Panama City    97  2019\n97    Seychelles      Victoria    98  2019\n98       Croatia        Zagreb    98  2019\n99        Poland       Wroclaw   100  2019\n\n[347 rows x 4 columns]",
      "text/html": "<div>\n<style scoped>\n    .dataframe tbody tr th:only-of-type {\n        vertical-align: middle;\n    }\n\n    .dataframe tbody tr th {\n        vertical-align: top;\n    }\n\n    .dataframe thead th {\n        text-align: right;\n    }\n</style>\n<table border=\"1\" class=\"dataframe\">\n  <thead>\n    <tr style=\"text-align: right;\">\n      <th></th>\n      <th>Country</th>\n      <th>City</th>\n      <th>Rank</th>\n      <th>year</th>\n    </tr>\n  </thead>\n  <tbody>\n    <tr>\n      <th>0</th>\n      <td>Austria</td>\n      <td>Vienna</td>\n      <td>1</td>\n      <td>2010</td>\n    </tr>\n    <tr>\n      <th>1</th>\n      <td>Switzerland</td>\n      <td>Zürich</td>\n      <td>2</td>\n      <td>2010</td>\n    </tr>\n    <tr>\n      <th>2</th>\n      <td>Switzerland</td>\n      <td>Geneva</td>\n      <td>3</td>\n      <td>2010</td>\n    </tr>\n    <tr>\n      <th>3</th>\n      <td>Canada</td>\n      <td>Vancouver</td>\n      <td>3</td>\n      <td>2010</td>\n    </tr>\n    <tr>\n      <th>4</th>\n      <td>New Zealand</td>\n      <td>Auckland</td>\n      <td>4</td>\n      <td>2010</td>\n    </tr>\n    <tr>\n      <th>...</th>\n      <td>...</td>\n      <td>...</td>\n      <td>...</td>\n      <td>...</td>\n    </tr>\n    <tr>\n      <th>95</th>\n      <td>South Africa</td>\n      <td>Johannesburg</td>\n      <td>96</td>\n      <td>2019</td>\n    </tr>\n    <tr>\n      <th>96</th>\n      <td>Panama</td>\n      <td>Panama City</td>\n      <td>97</td>\n      <td>2019</td>\n    </tr>\n    <tr>\n      <th>97</th>\n      <td>Seychelles</td>\n      <td>Victoria</td>\n      <td>98</td>\n      <td>2019</td>\n    </tr>\n    <tr>\n      <th>98</th>\n      <td>Croatia</td>\n      <td>Zagreb</td>\n      <td>98</td>\n      <td>2019</td>\n    </tr>\n    <tr>\n      <th>99</th>\n      <td>Poland</td>\n      <td>Wroclaw</td>\n      <td>100</td>\n      <td>2019</td>\n    </tr>\n  </tbody>\n</table>\n<p>347 rows × 4 columns</p>\n</div>"
     },
     "metadata": {},
     "output_type": "execute_result",
     "execution_count": 10
    }
   ]
  },
  {
   "cell_type": "code",
   "execution_count": 8,
   "outputs": [],
   "source": [],
   "metadata": {
    "collapsed": false,
    "pycharm": {
     "name": "#%%\n",
     "is_executing": false
    }
   }
  }
 ]
}